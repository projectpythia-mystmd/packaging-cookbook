{
 "cells": [
  {
   "cell_type": "markdown",
   "metadata": {},
   "source": [
    "<img src=\"https://training.galaxyproject.org/training-material/topics/climate/images/pangeo-ecosystem-2020.png\" width=500 alt=\"Pangeo Stack\"></img>"
   ]
  },
  {
   "cell_type": "markdown",
   "metadata": {},
   "source": [
    "# Packaging Cookbook"
   ]
  },
  {
   "cell_type": "markdown",
   "metadata": {},
   "source": [
    "---"
   ]
  },
  {
   "cell_type": "markdown",
   "metadata": {},
   "source": [
    "## Overview\n",
    "\n",
    "Packaging your software tools is an important part of contributing to the Python open-source scientific ecosystem. This cookbook will take you through some of the best practices and tips for effectively sharing your code.\n",
    "\n",
    "1. Still not convinced? Here's why you should package your tool.\n",
    "1. Python Package vs Library\n",
    "1. Packaging Conventions\n",
    "1. In this Cookbook"
   ]
  },
  {
   "cell_type": "markdown",
   "metadata": {},
   "source": [
    "## Prerequisites\n",
    "\n",
    "| Concepts | Importance | Notes |\n",
    "| --- | --- | --- |\n",
    "| [Git and GitHub](https://foundations.projectpythia.org/foundations/getting-started-github.html) | Necessary | |\n",
    "\n",
    "- **Time to learn**: ???"
   ]
  },
  {
   "cell_type": "markdown",
   "metadata": {},
   "source": [
    "---"
   ]
  },
  {
   "cell_type": "markdown",
   "metadata": {},
   "source": [
    "## Still not convinced? Here's why you should package your tool.\n",
    "\n",
    "Packaging is ..."
   ]
  },
  {
   "cell_type": "markdown",
   "metadata": {},
   "source": [
    "## Python package vs library\n",
    "Library is..."
   ]
  },
  {
   "cell_type": "markdown",
   "metadata": {},
   "source": [
    "## Package conventions\n",
    "\n",
    "## Naming and Versioning\n",
    "\n",
    "## Don't Publish Secrets!\n",
    "Remove charging keys from notebooks"
   ]
  },
  {
   "cell_type": "markdown",
   "metadata": {},
   "source": [
    "# In this Cookbook\n",
    "\n",
    "Other topics:\n",
    "\n",
    "- Package structuring (gitignore pycache templates and init)\n",
    "- PyPi\n",
    "- Personal Conda Channel\n",
    "- Conda forge\n",
    "- Continuous Integration and Testing GitHub Actions -- new notebook\n",
    "- Navigating an Exiting Open Source Package\n",
    "- Supporting Different Systems\n",
    "- Package Documentation with Sphinx"
   ]
  },
  {
   "cell_type": "markdown",
   "metadata": {},
   "source": [
    "---"
   ]
  },
  {
   "cell_type": "markdown",
   "metadata": {},
   "source": [
    "## __init__.py\n",
    "\n",
    "Typically, you should group all of the modules meant for import only into another directory called a package. A package is a directory containing a file called __init__.py inside it. (Note that this file is commonly empty.)\n",
    "\n",
    "Create a new directory called mysci and create an empty file in it called __init__.py:\n",
    "\n",
    "```\n",
    "mkdir mysci\n",
    "cd mysci\n",
    "touch __init__.py\n",
    "```\n",
    "\n",
    "Directory:\n",
    "mysci/\n",
    "   mysci/\n",
    "      __init__.py\n",
    "      core/"
   ]
  },
  {
   "cell_type": "markdown",
   "metadata": {},
   "source": [
    "## Setup.py\n",
    "Create a setup.py file one level above your mysci package (in the python_tutorial directory):\n",
    "\n",
    "$ touch setup.py\n",
    "The setup.py file is a Python file necessary for package distribution. This file tells pip how to install your package into the common Python space for your python interpreter. Required information is the name of your package, the version of your package (which you can choose), and a list of packages you’d like installed by pip (e.g., your mysci package).\n",
    "\n",
    "It’s contents will look as follows (but with your name and email):\n",
    "\n",
    "```\n",
    "from distutils.core import setup\n",
    "\n",
    "setup(\n",
    "    name=\"mysci\",\n",
    "    version=\"1.0.0\",\n",
    "    description=\"A sample package\",\n",
    "    author=\"Xdev\",\n",
    "    author_email=\"xdev@ucar.edu\",\n",
    "    packages=[\"mysci\"],\n",
    "    install_requires=[],\n",
    ")\n",
    "```\n",
    "This setup.py includes the information on the package name, version, description, author, contact info, contents, and dependencies (install_requires) which is set to an empty list since our current package uses no external packages.\n",
    "\n",
    "To build a distribution package using your newly created `setup.py` file, execute the following command in the same directory where the `setup.py` file is located:\n",
    "\n",
    "`python setup.py sdist bdist_wheel`"
   ]
  },
  {
   "cell_type": "markdown",
   "metadata": {},
   "source": [
    "## Summary\n",
    "Add one final `---` marking the end of your body of content, and then conclude with a brief single paragraph summarizing at a high level the key pieces that were learned and how they tied to your objectives. Look to reiterate what the most important takeaways were.\n",
    "\n",
    "### What's next?\n",
    "Let Jupyter book tie this to the next (sequential) piece of content that people could move on to down below and in the sidebar. However, if this page uniquely enables your reader to tackle other nonsequential concepts throughout this book, or even external content, link to it here!"
   ]
  },
  {
   "cell_type": "markdown",
   "metadata": {},
   "source": [
    "## Resources and references\n",
    " "
   ]
  },
  {
   "cell_type": "markdown",
   "metadata": {},
   "source": []
  }
 ],
 "metadata": {
  "kernelspec": {
   "display_name": "Python 3.9.6 64-bit",
   "language": "python",
   "name": "python3"
  },
  "language_info": {
   "codemirror_mode": {
    "name": "ipython",
    "version": 3
   },
   "file_extension": ".py",
   "mimetype": "text/x-python",
   "name": "python",
   "nbconvert_exporter": "python",
   "pygments_lexer": "ipython3",
   "version": "3.9.6"
  },
  "nbdime-conflicts": {
   "local_diff": [
    {
     "diff": [
      {
       "diff": [
        {
         "key": 0,
         "op": "addrange",
         "valuelist": [
          "Python 3"
         ]
        },
        {
         "key": 0,
         "length": 1,
         "op": "removerange"
        }
       ],
       "key": "display_name",
       "op": "patch"
      }
     ],
     "key": "kernelspec",
     "op": "patch"
    }
   ],
   "remote_diff": [
    {
     "diff": [
      {
       "diff": [
        {
         "key": 0,
         "op": "addrange",
         "valuelist": [
          "Python3"
         ]
        },
        {
         "key": 0,
         "length": 1,
         "op": "removerange"
        }
       ],
       "key": "display_name",
       "op": "patch"
      }
     ],
     "key": "kernelspec",
     "op": "patch"
    }
   ]
  },
  "toc-autonumbering": false,
  "vscode": {
   "interpreter": {
    "hash": "31f2aee4e71d21fbe5cf8b01ff0e069b9275f58929596ceb00d14d90e3e16cd6"
   }
  }
 },
 "nbformat": 4,
 "nbformat_minor": 4
}
